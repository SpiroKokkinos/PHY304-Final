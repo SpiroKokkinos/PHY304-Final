{
 "cells": [
  {
   "cell_type": "code",
   "execution_count": 2,
   "id": "f08b15bc",
   "metadata": {},
   "outputs": [
    {
     "name": "stdout",
     "output_type": "stream",
     "text": [
      "The calculated speed of the moving car is: 31.25 meters per second\n"
     ]
    }
   ],
   "source": [
    "speed_of_light = 3.0 * 10**8  # Speed of light in meters per second\n",
    "\n",
    "def calculate_speed(frequency_shift, transmitted_frequency):\n",
    "    # Doppler formula: speed = (frequency_shift * speed_of_light) / (2 * transmitted_frequency)\n",
    "    speed = (frequency_shift * speed_of_light) / (2 * transmitted_frequency)\n",
    "    return speed\n",
    "\n",
    "def main():\n",
    "    # Assume a frequency shift of Hz and a transmitted frequency of 24 GHz\n",
    "    frequency_shift = 5000\n",
    "    transmitted_frequency = 24 * 10**9  # 24 GHz\n",
    "\n",
    "    calculated_speed = calculate_speed(frequency_shift, transmitted_frequency)\n",
    "\n",
    "    print(f\"The calculated speed of the moving car is: {calculated_speed} meters per second\")\n",
    "\n",
    "if __name__ == \"__main__\":\n",
    "    main()"
   ]
  },
  {
   "cell_type": "code",
   "execution_count": 1,
   "id": "d171bf30",
   "metadata": {},
   "outputs": [
    {
     "name": "stdout",
     "output_type": "stream",
     "text": [
      "The calculated speed of the moving car is: 69.90 miles per hour\n"
     ]
    }
   ],
   "source": [
    "speed_of_light = 3.0 * 10**8  # Speed of light in meters per second\n",
    "\n",
    "def calculate_speed(frequency_shift, transmitted_frequency):\n",
    "    # Doppler formula: speed = (frequency_shift * speed_of_light) / (2 * transmitted_frequency)\n",
    "    speed_meters_per_second = (frequency_shift * speed_of_light) / (2 * transmitted_frequency)\n",
    "    \n",
    "    # Convert speed from meters per second to miles per hour\n",
    "    conversion_factor = 2.23694\n",
    "    speed_miles_per_hour = speed_meters_per_second * conversion_factor\n",
    "    \n",
    "    return speed_miles_per_hour\n",
    "\n",
    "def main():\n",
    "    # Assume a frequency shift of Hz and a transmitted frequency of 24 GHz\n",
    "    frequency_shift = 5000\n",
    "    transmitted_frequency = 24 * 10**9  # 24 GHz\n",
    "\n",
    "    calculated_speed = calculate_speed(frequency_shift, transmitted_frequency)\n",
    "\n",
    "    print(f\"The calculated speed of the moving car is: {calculated_speed:.2f} miles per hour\")\n",
    "\n",
    "if __name__ == \"__main__\":\n",
    "    main()"
   ]
  },
  {
   "cell_type": "code",
   "execution_count": null,
   "id": "049c96f3",
   "metadata": {},
   "outputs": [],
   "source": []
  }
 ],
 "metadata": {
  "kernelspec": {
   "display_name": "Python 3 (ipykernel)",
   "language": "python",
   "name": "python3"
  },
  "language_info": {
   "codemirror_mode": {
    "name": "ipython",
    "version": 3
   },
   "file_extension": ".py",
   "mimetype": "text/x-python",
   "name": "python",
   "nbconvert_exporter": "python",
   "pygments_lexer": "ipython3",
   "version": "3.11.4"
  }
 },
 "nbformat": 4,
 "nbformat_minor": 5
}
